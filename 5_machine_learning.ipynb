{
 "cells": [
  {
   "cell_type": "markdown",
   "metadata": {},
   "source": [
    "이보시오, 그러면 힘들게 배운 머신러닝은 도대체 언제 써먹는단 말이오?"
   ]
  },
  {
   "cell_type": "code",
   "execution_count": 1,
   "metadata": {},
   "outputs": [
    {
     "name": "stdout",
     "output_type": "stream",
     "text": [
      "설무아쌤 웁니다\n"
     ]
    }
   ],
   "source": [
    "print('설무아쌤 웁니다')"
   ]
  },
  {
   "cell_type": "markdown",
   "metadata": {},
   "source": [
    "![SortingHat](./image/SortingHat.jpg)"
   ]
  },
  {
   "cell_type": "markdown",
   "metadata": {},
   "source": [
    "Magical... 아니고 MachineLearning Sorting Hat 은 어떨까?"
   ]
  },
  {
   "cell_type": "markdown",
   "metadata": {},
   "source": [
    "학과 <- 학년, 반, 과목이수X5, 과목점수X5  \n",
    "주어진 정보를 이용하여 신입생에게 학과를 배정해보자... 는 MSH project...  \n",
    "1,1,2,1,2,2,2,2,5,3,5,3 이니까 그리핀도르... 아니고 전기과!"
   ]
  },
  {
   "cell_type": "markdown",
   "metadata": {},
   "source": [
    "----------------\n",
    "<span style=\"color:yellow\">1. pandas 로 데이터 전처리 및 저장<span>"
   ]
  },
  {
   "cell_type": "code",
   "execution_count": 14,
   "metadata": {},
   "outputs": [],
   "source": [
    "import pandas as pd\n",
    "df19 = pd.read_csv('./data/1. 19년도-과정이수및평가점수.csv', encoding='euc-kr')"
   ]
  },
  {
   "cell_type": "markdown",
   "metadata": {},
   "source": [
    "학생구분 은 학년 에 종속되어 결정되는 변수이므로 삭제하고 반 99 는 7로 변경한다.  \n",
    "또한 비교적 분리가 쉬울 것으로 예상되는 전기과, 스포츠지도과, 아동문헌정보과 만 남긴 후 저장한다."
   ]
  },
  {
   "cell_type": "code",
   "execution_count": 15,
   "metadata": {},
   "outputs": [],
   "source": [
    "df19 = df19.replace({'반': {99: 7}}).drop('학생구분', axis=1)\n",
    "df19 = df19[((df19['학과']=='전기과') | (df19['학과']=='스포츠지도과') | (df19['학과']=='아동문헌정보과'))]\n",
    "df19.to_csv('./data/pdf19.csv', index=False, encoding='euc-kr')"
   ]
  },
  {
   "cell_type": "code",
   "execution_count": 17,
   "metadata": {},
   "outputs": [
    {
     "data": {
      "text/html": [
       "<div>\n",
       "<style scoped>\n",
       "    .dataframe tbody tr th:only-of-type {\n",
       "        vertical-align: middle;\n",
       "    }\n",
       "\n",
       "    .dataframe tbody tr th {\n",
       "        vertical-align: top;\n",
       "    }\n",
       "\n",
       "    .dataframe thead th {\n",
       "        text-align: right;\n",
       "    }\n",
       "</style>\n",
       "<table border=\"1\" class=\"dataframe\">\n",
       "  <thead>\n",
       "    <tr style=\"text-align: right;\">\n",
       "      <th></th>\n",
       "      <th>학과</th>\n",
       "      <th>학년</th>\n",
       "      <th>반</th>\n",
       "      <th>A과목이수</th>\n",
       "      <th>B과목이수</th>\n",
       "      <th>C과목이수</th>\n",
       "      <th>D과목이수</th>\n",
       "      <th>E과목이수</th>\n",
       "      <th>A과목점수</th>\n",
       "      <th>B과목점수</th>\n",
       "      <th>C과목점수</th>\n",
       "      <th>D과목점수</th>\n",
       "      <th>E과목점수</th>\n",
       "    </tr>\n",
       "  </thead>\n",
       "  <tbody>\n",
       "    <tr>\n",
       "      <th>0</th>\n",
       "      <td>스포츠지도과</td>\n",
       "      <td>1</td>\n",
       "      <td>1</td>\n",
       "      <td>2</td>\n",
       "      <td>2</td>\n",
       "      <td>2</td>\n",
       "      <td>2</td>\n",
       "      <td>2</td>\n",
       "      <td>4</td>\n",
       "      <td>6</td>\n",
       "      <td>5</td>\n",
       "      <td>5</td>\n",
       "      <td>4</td>\n",
       "    </tr>\n",
       "    <tr>\n",
       "      <th>1</th>\n",
       "      <td>스포츠지도과</td>\n",
       "      <td>1</td>\n",
       "      <td>1</td>\n",
       "      <td>2</td>\n",
       "      <td>2</td>\n",
       "      <td>2</td>\n",
       "      <td>2</td>\n",
       "      <td>2</td>\n",
       "      <td>5</td>\n",
       "      <td>5</td>\n",
       "      <td>0</td>\n",
       "      <td>3</td>\n",
       "      <td>3</td>\n",
       "    </tr>\n",
       "    <tr>\n",
       "      <th>2</th>\n",
       "      <td>스포츠지도과</td>\n",
       "      <td>1</td>\n",
       "      <td>1</td>\n",
       "      <td>2</td>\n",
       "      <td>2</td>\n",
       "      <td>2</td>\n",
       "      <td>2</td>\n",
       "      <td>2</td>\n",
       "      <td>2</td>\n",
       "      <td>4</td>\n",
       "      <td>3</td>\n",
       "      <td>3</td>\n",
       "      <td>2</td>\n",
       "    </tr>\n",
       "    <tr>\n",
       "      <th>3</th>\n",
       "      <td>스포츠지도과</td>\n",
       "      <td>1</td>\n",
       "      <td>1</td>\n",
       "      <td>2</td>\n",
       "      <td>2</td>\n",
       "      <td>2</td>\n",
       "      <td>2</td>\n",
       "      <td>2</td>\n",
       "      <td>2</td>\n",
       "      <td>5</td>\n",
       "      <td>3</td>\n",
       "      <td>4</td>\n",
       "      <td>4</td>\n",
       "    </tr>\n",
       "    <tr>\n",
       "      <th>4</th>\n",
       "      <td>스포츠지도과</td>\n",
       "      <td>1</td>\n",
       "      <td>1</td>\n",
       "      <td>2</td>\n",
       "      <td>2</td>\n",
       "      <td>2</td>\n",
       "      <td>2</td>\n",
       "      <td>2</td>\n",
       "      <td>3</td>\n",
       "      <td>6</td>\n",
       "      <td>4</td>\n",
       "      <td>2</td>\n",
       "      <td>3</td>\n",
       "    </tr>\n",
       "    <tr>\n",
       "      <th>...</th>\n",
       "      <td>...</td>\n",
       "      <td>...</td>\n",
       "      <td>...</td>\n",
       "      <td>...</td>\n",
       "      <td>...</td>\n",
       "      <td>...</td>\n",
       "      <td>...</td>\n",
       "      <td>...</td>\n",
       "      <td>...</td>\n",
       "      <td>...</td>\n",
       "      <td>...</td>\n",
       "      <td>...</td>\n",
       "      <td>...</td>\n",
       "    </tr>\n",
       "    <tr>\n",
       "      <th>324</th>\n",
       "      <td>전기과</td>\n",
       "      <td>3</td>\n",
       "      <td>2</td>\n",
       "      <td>2</td>\n",
       "      <td>2</td>\n",
       "      <td>1</td>\n",
       "      <td>1</td>\n",
       "      <td>2</td>\n",
       "      <td>4</td>\n",
       "      <td>5</td>\n",
       "      <td>5</td>\n",
       "      <td>4</td>\n",
       "      <td>5</td>\n",
       "    </tr>\n",
       "    <tr>\n",
       "      <th>325</th>\n",
       "      <td>전기과</td>\n",
       "      <td>3</td>\n",
       "      <td>2</td>\n",
       "      <td>2</td>\n",
       "      <td>2</td>\n",
       "      <td>1</td>\n",
       "      <td>2</td>\n",
       "      <td>2</td>\n",
       "      <td>2</td>\n",
       "      <td>7</td>\n",
       "      <td>6</td>\n",
       "      <td>7</td>\n",
       "      <td>5</td>\n",
       "    </tr>\n",
       "    <tr>\n",
       "      <th>326</th>\n",
       "      <td>전기과</td>\n",
       "      <td>3</td>\n",
       "      <td>2</td>\n",
       "      <td>2</td>\n",
       "      <td>1</td>\n",
       "      <td>1</td>\n",
       "      <td>2</td>\n",
       "      <td>2</td>\n",
       "      <td>2</td>\n",
       "      <td>7</td>\n",
       "      <td>6</td>\n",
       "      <td>7</td>\n",
       "      <td>5</td>\n",
       "    </tr>\n",
       "    <tr>\n",
       "      <th>327</th>\n",
       "      <td>전기과</td>\n",
       "      <td>3</td>\n",
       "      <td>2</td>\n",
       "      <td>2</td>\n",
       "      <td>2</td>\n",
       "      <td>2</td>\n",
       "      <td>1</td>\n",
       "      <td>1</td>\n",
       "      <td>1</td>\n",
       "      <td>3</td>\n",
       "      <td>3</td>\n",
       "      <td>7</td>\n",
       "      <td>4</td>\n",
       "    </tr>\n",
       "    <tr>\n",
       "      <th>328</th>\n",
       "      <td>전기과</td>\n",
       "      <td>3</td>\n",
       "      <td>2</td>\n",
       "      <td>1</td>\n",
       "      <td>1</td>\n",
       "      <td>2</td>\n",
       "      <td>1</td>\n",
       "      <td>1</td>\n",
       "      <td>2</td>\n",
       "      <td>7</td>\n",
       "      <td>6</td>\n",
       "      <td>7</td>\n",
       "      <td>5</td>\n",
       "    </tr>\n",
       "  </tbody>\n",
       "</table>\n",
       "<p>329 rows × 13 columns</p>\n",
       "</div>"
      ],
      "text/plain": [
       "         학과  학년  반  A과목이수  B과목이수  C과목이수  D과목이수  E과목이수  A과목점수  B과목점수  C과목점수  \\\n",
       "0    스포츠지도과   1  1      2      2      2      2      2      4      6      5   \n",
       "1    스포츠지도과   1  1      2      2      2      2      2      5      5      0   \n",
       "2    스포츠지도과   1  1      2      2      2      2      2      2      4      3   \n",
       "3    스포츠지도과   1  1      2      2      2      2      2      2      5      3   \n",
       "4    스포츠지도과   1  1      2      2      2      2      2      3      6      4   \n",
       "..      ...  .. ..    ...    ...    ...    ...    ...    ...    ...    ...   \n",
       "324     전기과   3  2      2      2      1      1      2      4      5      5   \n",
       "325     전기과   3  2      2      2      1      2      2      2      7      6   \n",
       "326     전기과   3  2      2      1      1      2      2      2      7      6   \n",
       "327     전기과   3  2      2      2      2      1      1      1      3      3   \n",
       "328     전기과   3  2      1      1      2      1      1      2      7      6   \n",
       "\n",
       "     D과목점수  E과목점수  \n",
       "0        5      4  \n",
       "1        3      3  \n",
       "2        3      2  \n",
       "3        4      4  \n",
       "4        2      3  \n",
       "..     ...    ...  \n",
       "324      4      5  \n",
       "325      7      5  \n",
       "326      7      5  \n",
       "327      7      4  \n",
       "328      7      5  \n",
       "\n",
       "[329 rows x 13 columns]"
      ]
     },
     "execution_count": 17,
     "metadata": {},
     "output_type": "execute_result"
    }
   ],
   "source": [
    "pdf19 = pd.read_csv('./data/pdf19.csv', encoding='euc-kr')\n",
    "pdf19"
   ]
  },
  {
   "cell_type": "code",
   "execution_count": 30,
   "metadata": {},
   "outputs": [
    {
     "name": "stdout",
     "output_type": "stream",
     "text": [
      "(177, 13)\n",
      "(152, 13)\n"
     ]
    }
   ],
   "source": [
    "print(pdf19[pdf19['학년']==1].shape)\n",
    "print(pdf19[pdf19['학년']!=1].shape)"
   ]
  },
  {
   "cell_type": "code",
   "execution_count": 27,
   "metadata": {},
   "outputs": [
    {
     "name": "stdout",
     "output_type": "stream",
     "text": [
      "(124, 13)\n",
      "(76, 13)\n",
      "(48, 13)\n"
     ]
    }
   ],
   "source": [
    "print(pdf19[pdf19['학과']=='전기과'].shape)\n",
    "print(pdf19[(pdf19['학과']=='전기과') & (pdf19['학년']==1)].shape)\n",
    "print(pdf19[(pdf19['학과']=='전기과') & (pdf19['학년']!=1)].shape)"
   ]
  },
  {
   "cell_type": "code",
   "execution_count": 28,
   "metadata": {},
   "outputs": [
    {
     "name": "stdout",
     "output_type": "stream",
     "text": [
      "(92, 13)\n",
      "(39, 13)\n",
      "(53, 13)\n"
     ]
    }
   ],
   "source": [
    "print(pdf19[pdf19['학과']=='스포츠지도과'].shape)\n",
    "print(pdf19[(pdf19['학과']=='스포츠지도과') & (pdf19['학년']==1)].shape)\n",
    "print(pdf19[(pdf19['학과']=='스포츠지도과') & (pdf19['학년']!=1)].shape)"
   ]
  },
  {
   "cell_type": "code",
   "execution_count": 29,
   "metadata": {},
   "outputs": [
    {
     "name": "stdout",
     "output_type": "stream",
     "text": [
      "(113, 13)\n",
      "(62, 13)\n",
      "(51, 13)\n"
     ]
    }
   ],
   "source": [
    "print(pdf19[pdf19['학과']=='아동문헌정보과'].shape)\n",
    "print(pdf19[(pdf19['학과']=='아동문헌정보과') & (pdf19['학년']==1)].shape)\n",
    "print(pdf19[(pdf19['학과']=='아동문헌정보과') & (pdf19['학년']!=1)].shape)"
   ]
  },
  {
   "cell_type": "markdown",
   "metadata": {},
   "source": [
    "전체 pdf19 데이터 중 20%를 테스트 세트로 만들고 나머지를 훈련 세트로 만든다."
   ]
  },
  {
   "cell_type": "code",
   "execution_count": 38,
   "metadata": {},
   "outputs": [
    {
     "data": {
      "text/plain": [
       "array([[1, 1, 2, ..., 5, 5, 4],\n",
       "       [1, 1, 2, ..., 0, 3, 3],\n",
       "       [1, 1, 2, ..., 3, 3, 2],\n",
       "       ...,\n",
       "       [3, 2, 2, ..., 6, 7, 5],\n",
       "       [3, 2, 2, ..., 3, 7, 4],\n",
       "       [3, 2, 1, ..., 6, 7, 5]], dtype=int64)"
      ]
     },
     "execution_count": 38,
     "metadata": {},
     "output_type": "execute_result"
    }
   ],
   "source": [
    "pdf19_input = pdf19.drop('학과', axis=1).to_numpy()\n",
    "pdf19_input"
   ]
  },
  {
   "cell_type": "code",
   "execution_count": 40,
   "metadata": {},
   "outputs": [],
   "source": [
    "pdf19_target = pdf19['학과'].to_numpy()"
   ]
  },
  {
   "cell_type": "code",
   "execution_count": 42,
   "metadata": {},
   "outputs": [],
   "source": [
    "from sklearn.model_selection import train_test_split\n",
    "train_input, test_input, train_target, test_target = train_test_split(pdf19_input, pdf19_target, test_size=0.2, random_state=33)"
   ]
  },
  {
   "cell_type": "markdown",
   "metadata": {},
   "source": [
    "----------------\n",
    "<span style=\"color:yellow\">2. k-최근접 이웃 분류<span>"
   ]
  },
  {
   "cell_type": "markdown",
   "metadata": {},
   "source": [
    "훈련 세트 중 다시 20%를 검증 세트로 만든다."
   ]
  },
  {
   "cell_type": "code",
   "execution_count": 43,
   "metadata": {},
   "outputs": [],
   "source": [
    "sub_input, val_input, sub_target, val_target = train_test_split(train_input, train_target, test_size=0.2, random_state=33)"
   ]
  },
  {
   "cell_type": "code",
   "execution_count": 45,
   "metadata": {},
   "outputs": [
    {
     "name": "stdout",
     "output_type": "stream",
     "text": [
      "(210, 12) (53, 12)\n"
     ]
    }
   ],
   "source": [
    "print(sub_input.shape, val_input.shape)"
   ]
  },
  {
   "cell_type": "markdown",
   "metadata": {},
   "source": [
    "표준화 전처리"
   ]
  },
  {
   "cell_type": "code",
   "execution_count": 46,
   "metadata": {},
   "outputs": [],
   "source": [
    "from sklearn.preprocessing import StandardScaler\n",
    "ss = StandardScaler()\n",
    "ss.fit(sub_input)\n",
    "sub_scaled = ss.transform(sub_input)\n",
    "val_scaled = ss.transform(val_input)"
   ]
  },
  {
   "cell_type": "markdown",
   "metadata": {},
   "source": [
    "확률 예측"
   ]
  },
  {
   "cell_type": "code",
   "execution_count": 65,
   "metadata": {},
   "outputs": [
    {
     "name": "stdout",
     "output_type": "stream",
     "text": [
      "0.7857142857142857\n",
      "0.6226415094339622\n"
     ]
    }
   ],
   "source": [
    "from sklearn.neighbors import KNeighborsClassifier\n",
    "kn = KNeighborsClassifier(n_neighbors=5)\n",
    "kn.fit(sub_scaled, sub_target)\n",
    "print(kn.score(sub_scaled, sub_target))\n",
    "print(kn.score(val_scaled, val_target))"
   ]
  },
  {
   "cell_type": "markdown",
   "metadata": {},
   "source": [
    "스코어는 걱정했던 것만큼 나쁘지는 않으나 과대적합된 상태이다."
   ]
  },
  {
   "cell_type": "code",
   "execution_count": 66,
   "metadata": {},
   "outputs": [
    {
     "data": {
      "text/plain": [
       "array(['전기과', '아동문헌정보과', '스포츠지도과', '전기과', '아동문헌정보과', '전기과', '전기과', '전기과',\n",
       "       '전기과', '전기과'], dtype=object)"
      ]
     },
     "execution_count": 66,
     "metadata": {},
     "output_type": "execute_result"
    }
   ],
   "source": [
    "kn.predict(val_scaled[:10])"
   ]
  },
  {
   "cell_type": "code",
   "execution_count": 67,
   "metadata": {},
   "outputs": [
    {
     "data": {
      "text/plain": [
       "array(['전기과', '아동문헌정보과', '스포츠지도과', '전기과', '아동문헌정보과', '스포츠지도과', '전기과',\n",
       "       '전기과', '전기과', '아동문헌정보과'], dtype=object)"
      ]
     },
     "execution_count": 67,
     "metadata": {},
     "output_type": "execute_result"
    }
   ],
   "source": [
    "val_target[:10]"
   ]
  },
  {
   "cell_type": "markdown",
   "metadata": {},
   "source": [
    "----------------\n",
    "<span style=\"color:yellow\">3. 로지스틱 회귀<span>"
   ]
  },
  {
   "cell_type": "code",
   "execution_count": 60,
   "metadata": {},
   "outputs": [
    {
     "ename": "TypeError",
     "evalue": "'method' object is not iterable",
     "output_type": "error",
     "traceback": [
      "\u001b[1;31m---------------------------------------------------------------------------\u001b[0m",
      "\u001b[1;31mTypeError\u001b[0m                                 Traceback (most recent call last)",
      "\u001b[1;32m~\\AppData\\Local\\Temp/ipykernel_7544/2738789463.py\u001b[0m in \u001b[0;36m<module>\u001b[1;34m\u001b[0m\n\u001b[1;32m----> 1\u001b[1;33m \u001b[0mzip\u001b[0m\u001b[1;33m(\u001b[0m\u001b[0mkn\u001b[0m\u001b[1;33m.\u001b[0m\u001b[0mpredict\u001b[0m\u001b[1;33m,\u001b[0m \u001b[0mval_target\u001b[0m\u001b[1;33m)\u001b[0m\u001b[1;33m\u001b[0m\u001b[1;33m\u001b[0m\u001b[0m\n\u001b[0m",
      "\u001b[1;31mTypeError\u001b[0m: 'method' object is not iterable"
     ]
    }
   ],
   "source": [
    "zip(kn.predict, val_target)"
   ]
  }
 ],
 "metadata": {
  "interpreter": {
   "hash": "627a2a9b7c115b0b155f0419d13da3051e387ddb44044fa7a900e2d9a65f9bbb"
  },
  "kernelspec": {
   "display_name": "Python 3.8.8 64-bit",
   "language": "python",
   "name": "python3"
  },
  "language_info": {
   "codemirror_mode": {
    "name": "ipython",
    "version": 3
   },
   "file_extension": ".py",
   "mimetype": "text/x-python",
   "name": "python",
   "nbconvert_exporter": "python",
   "pygments_lexer": "ipython3",
   "version": "3.8.8"
  },
  "orig_nbformat": 4
 },
 "nbformat": 4,
 "nbformat_minor": 2
}
