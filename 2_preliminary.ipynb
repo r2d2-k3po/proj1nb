{
 "cells": [
  {
   "cell_type": "markdown",
   "metadata": {},
   "source": [
    "## 사전 데이터 분석"
   ]
  },
  {
   "cell_type": "markdown",
   "metadata": {},
   "source": [
    "----------------\n",
    "<span style=\"color:yellow\">1. pandas 로 데이터 읽기<span>"
   ]
  },
  {
   "cell_type": "code",
   "execution_count": 2,
   "metadata": {},
   "outputs": [],
   "source": [
    "import pandas as pd\n",
    "df19 = pd.read_csv('./data/1. 19년도-과정이수및평가점수.csv', encoding='euc-kr')\n",
    "df15 = pd.read_excel('./data/2. 15-19년전체집계.xlsx')"
   ]
  },
  {
   "cell_type": "code",
   "execution_count": 6,
   "metadata": {},
   "outputs": [
    {
     "name": "stdout",
     "output_type": "stream",
     "text": [
      "  학생구분       학과  학년  반  A과목이수  B과목이수  C과목이수  D과목이수  E과목이수  A과목점수  B과목점수  \\\n",
      "0  신입생  건축설비소방과   1  1      2      2      2      2      2      2      5   \n",
      "1  신입생  건축설비소방과   1  1      2      2      2      2      2      5      3   \n",
      "2  신입생  건축설비소방과   1  1      2      1      2      2      2      5      1   \n",
      "3  신입생  건축설비소방과   1  1      2      2      2      2      2      2      5   \n",
      "4  신입생  건축설비소방과   1  1      1      1      1      1      1      2      5   \n",
      "\n",
      "   C과목점수  D과목점수  E과목점수  \n",
      "0      4      4      4  \n",
      "1      3      7      3  \n",
      "2      2      3      3  \n",
      "3      5      3      4  \n",
      "4      4      4      4  \n"
     ]
    }
   ],
   "source": [
    "print(df19.head())"
   ]
  },
  {
   "cell_type": "code",
   "execution_count": 7,
   "metadata": {},
   "outputs": [
    {
     "name": "stdout",
     "output_type": "stream",
     "text": [
      "     연도         학과 학생구분  응시자수       A과목       B과목  F과목       D과목  G과목  \\\n",
      "0  2019    건축설비소방과  신입생    70  3.028571  4.514286  0.0  3.400000  0.0   \n",
      "1  2019       건축학부  신입생   229  2.982533  4.903930  0.0  3.489083  0.0   \n",
      "2  2019       경영학부  신입생   147  2.829932  4.544218  0.0  3.993197  0.0   \n",
      "3  2019  글로벌외식조리학부  신입생   147  3.136054  4.265306  0.0  3.476190  0.0   \n",
      "4  2019        기계과  신입생    87  3.022989  4.321839  0.0  3.229885  0.0   \n",
      "\n",
      "        C과목       E과목  \n",
      "0  3.914286  3.728571  \n",
      "1  3.572052  3.589520  \n",
      "2  3.659864  3.741497  \n",
      "3  3.700680  3.829932  \n",
      "4  3.701149  3.747126  \n"
     ]
    }
   ],
   "source": [
    "print(df15.head())"
   ]
  },
  {
   "cell_type": "markdown",
   "metadata": {},
   "source": [
    "------------------------------------\n",
    "<span style=\"color:yellow\">2. 결측치 (missing value) 확인</span>"
   ]
  },
  {
   "cell_type": "markdown",
   "metadata": {},
   "source": [
    ".shape : 데이터프레임의 행과 열 수를 알려준다  \n",
    ".count() : 각 열 당 결측치를 제외한 행 수를 알려준다"
   ]
  },
  {
   "cell_type": "code",
   "execution_count": 12,
   "metadata": {},
   "outputs": [
    {
     "name": "stdout",
     "output_type": "stream",
     "text": [
      "(3477, 14)\n",
      "학생구분     3477\n",
      "학과       3477\n",
      "학년       3477\n",
      "반        3477\n",
      "A과목이수    3477\n",
      "B과목이수    3477\n",
      "C과목이수    3477\n",
      "D과목이수    3477\n",
      "E과목이수    3477\n",
      "A과목점수    3477\n",
      "B과목점수    3477\n",
      "C과목점수    3477\n",
      "D과목점수    3477\n",
      "E과목점수    3477\n",
      "dtype: int64\n"
     ]
    }
   ],
   "source": [
    "print(df19.shape)\n",
    "print(df19.count())"
   ]
  },
  {
   "cell_type": "code",
   "execution_count": 11,
   "metadata": {},
   "outputs": [
    {
     "name": "stdout",
     "output_type": "stream",
     "text": [
      "(278, 11)\n",
      "연도      278\n",
      "학과      278\n",
      "학생구분    278\n",
      "응시자수    278\n",
      "A과목     278\n",
      "B과목     278\n",
      "F과목     278\n",
      "D과목     278\n",
      "G과목     278\n",
      "C과목     278\n",
      "E과목     278\n",
      "dtype: int64\n"
     ]
    }
   ],
   "source": [
    "print(df15.shape)\n",
    "print(df15.count())"
   ]
  },
  {
   "cell_type": "markdown",
   "metadata": {},
   "source": [
    "결론 :  \n",
    "* .shape 과 .count() 의 행 수가 일치하므로 적어도 표면적으로는 결측치가 없다.  \n",
    "* df19 자료에서 일부 응시자의 점수가 전부 0인 것을 볼 때 자료 제공자의 전처리에 의해 결측치가 0으로 치환되었을 가능성이 있지만 주어진 자료만 가지고는 알 수 없다.  \n",
    "* df19 자료에 F, G 과목이 없고 df15 자료의 2019 년도 부분에서 F, G 과목이 전부 0점 처리된 점, df15 자료의 2015~2018 년도 부분에서 F, G 과목 성적이 있지만 반대로 C, E 과목이 전부 0점 처리된 점으로 보아 2019년을 기점으로 응시과목이 F, G 에서 C, E 과목으로 변경되었을 가능성이 높다. 즉 df15 자료에서 단체로 0점 처리된 부분은 사실은 결측치이지만 자료 제공자의 전처리에 의해 결측치가 0으로 치환되어 제공되었을 가능성이 높다."
   ]
  },
  {
   "cell_type": "markdown",
   "metadata": {},
   "source": [
    "---------------------\n",
    "<span style=\"color:yellow\">3. df19 자료와 df15 자료의 2019 년도 부분 정합성 (응시자 수, 성적) 확인</span>"
   ]
  },
  {
   "cell_type": "code",
   "execution_count": 76,
   "metadata": {},
   "outputs": [
    {
     "name": "stdout",
     "output_type": "stream",
     "text": [
      "학과\n",
      "건축설비소방과       70\n",
      "건축학부         229\n",
      "경영학부         147\n",
      "글로벌외식조리학부    147\n",
      "기계과           87\n",
      "디지털전자과        75\n",
      "메카트로닉스과       66\n",
      "방송음향영상학부     112\n",
      "비서사무행정과       77\n",
      "사회복지과         73\n",
      "스포츠지도과        39\n",
      "아동문헌정보과       62\n",
      "언어재활과         42\n",
      "유아교육과         72\n",
      "의공융합과         31\n",
      "자동차학부        111\n",
      "자동화시스템과       63\n",
      "전기과           76\n",
      "전자통신과         75\n",
      "컴퓨터정보학부      136\n",
      "토목환경과         58\n",
      "항공호텔관광학부     160\n",
      "Name: 학생구분, dtype: int64\n"
     ]
    }
   ],
   "source": [
    "print(df19[df19['학생구분']=='신입생'].groupby(['학과']).학생구분.count())"
   ]
  },
  {
   "cell_type": "code",
   "execution_count": 75,
   "metadata": {},
   "outputs": [
    {
     "name": "stdout",
     "output_type": "stream",
     "text": [
      "           학과  응시자수\n",
      "0     건축설비소방과    70\n",
      "1        건축학부   229\n",
      "2        경영학부   147\n",
      "3   글로벌외식조리학부   147\n",
      "4         기계과    87\n",
      "5      디지털전자과    75\n",
      "6     메카트로닉스과    66\n",
      "7    방송음향영상학부   112\n",
      "8     비서사무행정과    77\n",
      "9       사회복지과    73\n",
      "10     스포츠지도과    39\n",
      "11    아동문헌정보과    62\n",
      "12      언어재활과    42\n",
      "13      유아교육과    72\n",
      "14      의공융합과    31\n",
      "15      자동차학부   111\n",
      "16    자동화시스템과    63\n",
      "17        전기과    76\n",
      "18      전자통신과    75\n",
      "19    컴퓨터정보학부   136\n",
      "20      토목환경과    58\n",
      "21   항공호텔관광학부   160\n"
     ]
    }
   ],
   "source": [
    "print(df15[((df15['학생구분']=='신입생') & (df15['연도']==2019))][['학과', '응시자수']])"
   ]
  },
  {
   "cell_type": "markdown",
   "metadata": {},
   "source": [
    "df19 자료와 df15 자료의 2019 년도 부분 신입생 응시자 수가 같음을 확인."
   ]
  },
  {
   "cell_type": "code",
   "execution_count": 77,
   "metadata": {},
   "outputs": [
    {
     "name": "stdout",
     "output_type": "stream",
     "text": [
      "학과\n",
      "건축과           63\n",
      "건축설비소방과       59\n",
      "경영과           67\n",
      "기계과           55\n",
      "디지털전자과        56\n",
      "메카트로닉스과       28\n",
      "모바일인터넷과       47\n",
      "방송음향영상과       55\n",
      "비서사무행정과       53\n",
      "사회복지과         52\n",
      "산업경영과         25\n",
      "세무회계과         61\n",
      "스포츠지도과        53\n",
      "실내디자인과        60\n",
      "아동문헌정보과       51\n",
      "언어재활과         37\n",
      "유아교육과         60\n",
      "의공융합과         29\n",
      "자동차과         121\n",
      "자동화시스템과       36\n",
      "전기과           48\n",
      "전자통신과         41\n",
      "컴퓨터소프트웨어과     58\n",
      "토목환경과         25\n",
      "항공서비스과        63\n",
      "호텔관광과         54\n",
      "호텔외식서비스과      40\n",
      "호텔조리과         72\n",
      "Name: 학생구분, dtype: int64\n"
     ]
    }
   ],
   "source": [
    "print(df19[df19['학생구분']=='재학생'].groupby(['학과']).학생구분.count())"
   ]
  },
  {
   "cell_type": "code",
   "execution_count": 78,
   "metadata": {},
   "outputs": [
    {
     "name": "stdout",
     "output_type": "stream",
     "text": [
      "            학과  응시자수\n",
      "22         건축과    63\n",
      "23     건축설비소방과    59\n",
      "24         경영과    67\n",
      "25         기계과    55\n",
      "26      디지털전자과    56\n",
      "27     메카트로닉스과    28\n",
      "28     모바일인터넷과    47\n",
      "29     방송음향영상과    55\n",
      "30     비서사무행정과    53\n",
      "31       사회복지과    52\n",
      "32       산업경영과    25\n",
      "33       세무회계과    61\n",
      "34      스포츠지도과    53\n",
      "35  실내디자인과(학부)    60\n",
      "36     아동문헌정보과    51\n",
      "37       언어재활과    37\n",
      "38       유아교육과    60\n",
      "39       의공융합과    29\n",
      "40        자동차과   121\n",
      "41     자동화시스템과    36\n",
      "42         전기과    48\n",
      "43       전자통신과    41\n",
      "44   컴퓨터소프트웨어과    58\n",
      "45       토목환경과    25\n",
      "46      항공서비스과    63\n",
      "47       호텔관광과    54\n",
      "48    호텔외식서비스과    40\n",
      "49       호텔조리과    72\n"
     ]
    }
   ],
   "source": [
    "print(df15[((df15['학생구분']=='재학생') & (df15['연도']==2019))][['학과', '응시자수']])"
   ]
  },
  {
   "cell_type": "markdown",
   "metadata": {},
   "source": [
    "df19 자료와 df15 자료의 2019 년도 부분 재학생 응시자 수도 같음을 확인."
   ]
  },
  {
   "cell_type": "code",
   "execution_count": 16,
   "metadata": {},
   "outputs": [
    {
     "name": "stdout",
     "output_type": "stream",
     "text": [
      "['건축설비소방과' '건축학부' '경영학부' '글로벌외식조리학부' '기계과' '디지털전자과' '메카트로닉스과' '방송음향영상학부'\n",
      " '비서사무행정과' '사회복지과' '스포츠지도과' '아동문헌정보과' '언어재활과' '유아교육과' '의공융합과' '자동차학부'\n",
      " '자동화시스템과' '전기과' '전자통신과' '컴퓨터정보학부' '토목환경과' '항공호텔관광학부' '건축과' '경영과'\n",
      " '모바일인터넷과' '방송음향영상과' '산업경영과' '세무회계과' '실내디자인과' '자동차과' '컴퓨터소프트웨어과' '항공서비스과'\n",
      " '호텔관광과' '호텔외식서비스과' '호텔조리과']\n"
     ]
    }
   ],
   "source": [
    "print(subset19.학과.unique())"
   ]
  }
 ],
 "metadata": {
  "interpreter": {
   "hash": "627a2a9b7c115b0b155f0419d13da3051e387ddb44044fa7a900e2d9a65f9bbb"
  },
  "kernelspec": {
   "display_name": "Python 3.8.8 64-bit",
   "language": "python",
   "name": "python3"
  },
  "language_info": {
   "codemirror_mode": {
    "name": "ipython",
    "version": 3
   },
   "file_extension": ".py",
   "mimetype": "text/x-python",
   "name": "python",
   "nbconvert_exporter": "python",
   "pygments_lexer": "ipython3",
   "version": "3.8.8"
  },
  "orig_nbformat": 4
 },
 "nbformat": 4,
 "nbformat_minor": 2
}
