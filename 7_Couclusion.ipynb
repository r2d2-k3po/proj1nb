{
 "cells": [
  {
   "cell_type": "markdown",
   "metadata": {},
   "source": [
    "## 결론"
   ]
  },
  {
   "cell_type": "markdown",
   "metadata": {},
   "source": [
    "1. NCS 직업기초능력 시험평가 자료에 대해 우선 주어진 데이터의 무결성, 정합성을 확인하는 사전 분석을 실시함."
   ]
  },
  {
   "cell_type": "markdown",
   "metadata": {},
   "source": [
    "* 두 자료의 2019년 부분 응시자 수, 시험평균 점수의 정합성을 확인함.  \n",
    "* 표면적으로는 결측치가 없으나 2019년을 기점으로 시험과목이 변경된 것으로 보여, 0점 처리된 해당 점수를 다시 결측치로 치환함.  "
   ]
  },
  {
   "cell_type": "markdown",
   "metadata": {},
   "source": [
    "2. 학과별, 연도별 응시자 수, 평균 점수에 대한 기본적인 분석을 실시함."
   ]
  },
  {
   "cell_type": "markdown",
   "metadata": {},
   "source": [
    "* 연도별, 학과별 응시자 수의 변화를 시각화를 통해 살펴 보았지만 응시자 수가 결정되는 변수에 대한 아무런 정보도 없어서 의미있는 분석이 어려움.  \n",
    "* 연도별, 학과별 평균점수의 변화를 시각화를 통해 살펴 보았으며 최상단에 재학생들이 다소 많이 분포함을 확인함."
   ]
  },
  {
   "cell_type": "markdown",
   "metadata": {},
   "source": [
    "3. 2019년 학과별 시험 점수 분포에 대한 기본적인 분석을 실시함."
   ]
  },
  {
   "cell_type": "markdown",
   "metadata": {},
   "source": [
    "* 토목환경과의 재학생, 신입생 성적 분포 분리 현상이 뚜렷하게 보이고, 또한 성적 분포의 범위가 상당히 넓다.  \n",
    "* 대부분의 학과는 학과간 점수 분포 분리가 어려우나 일부 학과 (전기과, 디지털전자과, 스포츠지도과, 언어재활과, 비서사무행정과, 아동문헌정보과, 유아교육과)는 다소 분리된 점수 분포를 보인다.  \n",
    "* A 와 D 과목에서 과목이수자의 성적 우위를 다소 확인할 수 있다."
   ]
  },
  {
   "cell_type": "markdown",
   "metadata": {},
   "source": [
    "4. 분리가 상대적으로 쉬운 세 학과에 대해 머신 러닝 분류 기법을 실습하고 그 특성에 대해 분석함."
   ]
  },
  {
   "cell_type": "markdown",
   "metadata": {},
   "source": [
    "* 선택된 자료의 시스템에 대해서는 선형 모델인 로지스틱 회귀와 확률적 경사 하강법의 성능이 좋지 않음을 확인.  \n",
    "* k-최근접 이웃분류 는 과대적합된 0.7857142857142857, 0.6226415094339622 의 스코어를 보인다.  \n",
    "* 결정 트리 는 k-최근접 이웃분류 보다 약간 나은 성능을 보이며 특성 중요도에서 학년이 매우 중요한 특성으로 나옴.  \n",
    "* 결정 트리 에 파라미터를 변화시키는 그리드 서치, 랜덤 서치를 접목하면 다소 향상된 성능을 보여준다.  \n",
    "* 결정 트리 의 앙상블 학습인 랜덤 포레스트, 엑스트라 트리, 그래디언트 부스팅, 히스토그램 기반 그래디언트 부스팅 등의 기법을 적용해 보았으며, 훈련 세트에는 상당한 과대적합을 보이나 최종 테스트 세트에 적용한 스코어는 0.7424242424242424 로 다른 기법에 비해 향상된 결과를 보여 준다.  \n",
    "* 앙상블 학습의 특성 중요도 결과에 따르면 학년의 특성 중요도가 0.27727273 로 가장 높고 나머지 특성에 비교적 골고루 분포된 느낌이다."
   ]
  },
  {
   "cell_type": "markdown",
   "metadata": {},
   "source": [
    "[도입             : 1_Intro.ipynb](./1_Intro.ipynb)  \n",
    "[사전 데이터 분석 : 2_preliminary.ipynb](./2_preliminary.ipynb)  \n",
    "[기본 데이터 분석 : 3_basic_analysis.ipynb](./3_basic_analysis.ipynb)  \n",
    "[기본 데이터 분석 : 4_basic_analysis.ipynb](./4_basic_analysis.ipynb)  \n",
    "[머신 러닝        : 5_machine_learning.ipynb](./5_machine_learning.ipynb)  \n",
    "[머신 러닝        : 6_machine_learning.ipynb](./6_machine_learning.ipynb)  "
   ]
  }
 ],
 "metadata": {
  "language_info": {
   "name": "python"
  },
  "orig_nbformat": 4
 },
 "nbformat": 4,
 "nbformat_minor": 2
}
