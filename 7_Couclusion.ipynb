{
 "cells": [
  {
   "cell_type": "markdown",
   "metadata": {},
   "source": []
  },
  {
   "cell_type": "markdown",
   "metadata": {},
   "source": []
  },
  {
   "cell_type": "markdown",
   "metadata": {},
   "source": []
  },
  {
   "cell_type": "markdown",
   "metadata": {},
   "source": [
    "[도입             : 1_Intro.ipynb](./1_Intro.ipynb)  \n",
    "[사전 데이터 분석 : 2_preliminary.ipynb](./2_preliminary.ipynb)  \n",
    "[기본 데이터 분석 : 3_basic_analysis.ipynb](./3_basic_analysis.ipynb)  \n",
    "[기본 데이터 분석 : 4_basic_analysis.ipynb](./4_basic_analysis.ipynb)  \n",
    "[머신 러닝        : 5_machine_learning.ipynb](./5_machine_learning.ipynb)  \n",
    "[머신 러닝        : 6_machine_learning.ipynb](./6_machine_learning.ipynb)  "
   ]
  }
 ],
 "metadata": {
  "language_info": {
   "name": "python"
  },
  "orig_nbformat": 4
 },
 "nbformat": 4,
 "nbformat_minor": 2
}
