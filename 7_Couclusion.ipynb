{
 "cells": [
  {
   "cell_type": "markdown",
   "metadata": {},
   "source": [
    "## 결론"
   ]
  },
  {
   "cell_type": "markdown",
   "metadata": {},
   "source": [
    "1. NCS 직업기초능력 시험평가 자료에 대해 우선 주어진 데이터의 무결성, 정합성을 확인하는 사전 분석을 실시함."
   ]
  },
  {
   "cell_type": "markdown",
   "metadata": {},
   "source": [
    "2. 학과별, 연도별 응시자 수, 평균 점수에 대한 기본적인 분석을 실시함."
   ]
  },
  {
   "cell_type": "markdown",
   "metadata": {},
   "source": [
    "3. 2019년 학과별 시험 점수 분포에 대한 기본적인 분석을 실시함."
   ]
  },
  {
   "cell_type": "markdown",
   "metadata": {},
   "source": [
    "4. "
   ]
  },
  {
   "cell_type": "markdown",
   "metadata": {},
   "source": []
  },
  {
   "cell_type": "markdown",
   "metadata": {},
   "source": []
  },
  {
   "cell_type": "markdown",
   "metadata": {},
   "source": [
    "[도입             : 1_Intro.ipynb](./1_Intro.ipynb)  \n",
    "[사전 데이터 분석 : 2_preliminary.ipynb](./2_preliminary.ipynb)  \n",
    "[기본 데이터 분석 : 3_basic_analysis.ipynb](./3_basic_analysis.ipynb)  \n",
    "[기본 데이터 분석 : 4_basic_analysis.ipynb](./4_basic_analysis.ipynb)  \n",
    "[머신 러닝        : 5_machine_learning.ipynb](./5_machine_learning.ipynb)  \n",
    "[머신 러닝        : 6_machine_learning.ipynb](./6_machine_learning.ipynb)  "
   ]
  }
 ],
 "metadata": {
  "language_info": {
   "name": "python"
  },
  "orig_nbformat": 4
 },
 "nbformat": 4,
 "nbformat_minor": 2
}
