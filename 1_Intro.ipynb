{
 "cells": [
  {
   "cell_type": "markdown",
   "metadata": {},
   "source": [
    "## 미니 데이터 분석 by 박기삼"
   ]
  },
  {
   "cell_type": "markdown",
   "metadata": {},
   "source": [
    "아래 주어진 자료에 대해 분석을 실시\n",
    "\n",
    "1. 19년도-과정이수및평가점수.csv\n",
    "2. 15-19년전체집계.xlsx  \n",
    "참고 : 평가시험 결과 보고서-템플릿.pdf"
   ]
  },
  {
   "cell_type": "markdown",
   "metadata": {},
   "source": [
    "분석 목표 : \n",
    "\n",
    "* 사전 분석 : 데이터 무결성, 정합성 확인\n",
    "* 1차 분석 : 기본 패턴, 경향성 확인\n",
    "* 심화분석 : 별 의미없는 부분에 대한 나열식 분석보다는 중요하고 흥미있는 주제에 대해 빅데이터 분석이라는 교육 목적에 맞게 심화분석을 시도"
   ]
  },
  {
   "cell_type": "markdown",
   "metadata": {},
   "source": [
    "목차\n",
    "\n",
    "[도입 : 1_Intro.ipynb](#미니-데이터-분석-by-박기삼)  \n",
    "[사전 데이터 분석 : 2_preliminary.ipynb](./2_preliminary.ipynb)  \n",
    "[기본 데이터 분석 : 3_basic_analysis.ipynb](./3_basic_analysis.ipynb)"
   ]
  }
 ],
 "metadata": {
  "interpreter": {
   "hash": "627a2a9b7c115b0b155f0419d13da3051e387ddb44044fa7a900e2d9a65f9bbb"
  },
  "kernelspec": {
   "display_name": "Python 3.8.8 64-bit",
   "language": "python",
   "name": "python3"
  },
  "language_info": {
   "codemirror_mode": {
    "name": "ipython",
    "version": 3
   },
   "file_extension": ".py",
   "mimetype": "text/x-python",
   "name": "python",
   "nbconvert_exporter": "python",
   "pygments_lexer": "ipython3",
   "version": "3.8.8"
  },
  "orig_nbformat": 4
 },
 "nbformat": 4,
 "nbformat_minor": 2
}
